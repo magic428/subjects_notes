{
 "cells": [
  {
   "cell_type": "markdown",
   "metadata": {},
   "source": [
    "# numpy 基本类型和创建/元素访问    \n",
    "\n",
    "[TOC]\n"
   ]
  },
  {
   "cell_type": "markdown",
   "metadata": {},
   "source": [
    "## numpy 支持的数据类型   \n",
    "\n",
    "`np.typeDict.values()` 函数中包含了所有 numpy 支持的数据类型.   \n",
    "\n",
    "可以使用 `type()` 函数查看一个变量的类型.   \n",
    "\n",
    "**astype() 类型转换**    \n",
    "\n",
    "需要注意的是 astype() 不会执行 In-Place 操作, 返回值是转换后的数组.     \n"
   ]
  },
  {
   "cell_type": "code",
   "execution_count": 80,
   "metadata": {},
   "outputs": [
    {
     "name": "stdout",
     "output_type": "stream",
     "text": [
      "int64\n",
      "float64\n"
     ]
    }
   ],
   "source": [
    "arr = np.array([4, 4, 1, 2])\n",
    "print(arr.dtype)\n",
    "arr = arr.astype(np.float64)\n",
    "print(arr.dtype)"
   ]
  },
  {
   "cell_type": "markdown",
   "metadata": {},
   "source": [
    "## 创建 array 数组   "
   ]
  },
  {
   "cell_type": "markdown",
   "metadata": {},
   "source": [
    "### 1. 使用 list 创建 ndarray   \n",
    "\n",
    "使用数组(一维, 二维或者多维), 可以创建 numpy 的 array 对象.   \n",
    "\n",
    "以下是一维数组的创建.      "
   ]
  },
  {
   "cell_type": "code",
   "execution_count": 3,
   "metadata": {},
   "outputs": [
    {
     "data": {
      "text/plain": [
       "((1, 4), (4,))"
      ]
     },
     "execution_count": 3,
     "metadata": {},
     "output_type": "execute_result"
    }
   ],
   "source": [
    "import numpy as np \n",
    "\n",
    "l1 = [[1, 2, 3, 4]]\n",
    "l2 = [1, 2, 3, 4] # 注意区分这两个的不同, 主要表现在维度信息上\n",
    "arr1 = np.array(l1)\n",
    "arr2 = np.array(l2)\n",
    "\n",
    "np.shape(arr1), np.shape(arr2)"
   ]
  },
  {
   "cell_type": "markdown",
   "metadata": {},
   "source": [
    "#### 多维数组中重要的参数 - axis   \n",
    "\n",
    "numpy 库中有些函数有个参数 axis，像 ndarray.max().    \n",
    "\n",
    "比如一个多维数组是(2*3*2)，那该数组就是3维的，参数 axis=0 指的就是第一维(2)，axis=1就是第二维(3)，依此类推。  \n",
    "\n",
    "将方括号当做洋葱, 由外到内维度依次递增.   \n",
    "\n",
    "对于维度为($n_0, n_1, ...n_m$)的数组, 指定 axis=k 就是以 axis=k 为基准进行比较, 生成的结果的维度应该是($n_0, n_1, ... n_{k-1}, n_{k+1}, ...n_m$)\n",
    "\n",
    "以下是多维数组的创建.  "
   ]
  },
  {
   "cell_type": "code",
   "execution_count": 6,
   "metadata": {},
   "outputs": [
    {
     "name": "stdout",
     "output_type": "stream",
     "text": [
      "max value on axis 0 = \n",
      "[[4 3]\n",
      " [2 3]\n",
      " [3 3]]\n",
      "flatten = [4 3 1 3 3 0 4 3 2 0 1 3]\n"
     ]
    },
    {
     "data": {
      "text/plain": [
       "array([4, 3, 1, 3, 3, 0, 4, 3, 2, 0, 1, 3])"
      ]
     },
     "execution_count": 6,
     "metadata": {},
     "output_type": "execute_result"
    }
   ],
   "source": [
    "np.random.seed(44)   ## 为了每次生成不变的随机数  \n",
    "b = np.random.randint(0,5,[2,3,2])  \n",
    "print(\"max value on axis 0 = \\n%s\" % str(b.max(axis=0)))   # 返回给定维度轴上的最大值\n",
    "print(\"flatten = %s\" % b.flatten())\n",
    "b.ravel('C')     # 'C' 是按行展开; 'F' 是按列展开\n"
   ]
  },
  {
   "cell_type": "markdown",
   "metadata": {},
   "source": [
    "### 2. 使用内置特殊函数初始化数组   \n",
    "\n",
    "- ones(), zeros, ey3e()   \n",
    "- repeat(), linspace(), arange()\n"
   ]
  },
  {
   "cell_type": "code",
   "execution_count": 7,
   "metadata": {},
   "outputs": [],
   "source": [
    "arr3 = np.ones((3,3), dtype=np.float)   # 3x3的浮点型2维数组，并且初始化所有元素值为1\n",
    "arr4 = np.zeros((3, 3), dtype=np.uint8)  # 3x3的无符号8位整型3维数组，并且初始化所有元素值为0\n",
    "arr5 = np.eye(4, dtype=np.double)\n",
    "\n",
    "arr6 = np.repeat(3, 4)   # 创建一个一维数组，元素值是把3重复4次，array([3, 3, 3, 3])\n",
    "arr7 = np.linspace(0, 1., 101)"
   ]
  },
  {
   "cell_type": "markdown",
   "metadata": {},
   "source": [
    "## 元素访问   \n",
    "\n",
    "1. 下标访问    \n",
    "2. 切片访问  \n",
    "获取特定位置的元素.   \n",
    "`:` 表示当前维度的所有元素.   \n",
    "`...` 表示没有明确指出的维度.    \n",
    "`-1` 表示最后一个元素.   \n"
   ]
  },
  {
   "cell_type": "markdown",
   "metadata": {},
   "source": [
    "## 文件读写   \n",
    "\n",
    "- np.save()  \n",
    "- np.load()  "
   ]
  },
  {
   "cell_type": "code",
   "execution_count": 86,
   "metadata": {},
   "outputs": [
    {
     "data": {
      "text/plain": [
       "array([0.  , 0.01, 0.02, 0.03, 0.04, 0.05, 0.06, 0.07, 0.08, 0.09, 0.1 ,\n",
       "       0.11, 0.12, 0.13, 0.14, 0.15, 0.16, 0.17, 0.18, 0.19, 0.2 , 0.21,\n",
       "       0.22, 0.23, 0.24, 0.25, 0.26, 0.27, 0.28, 0.29, 0.3 , 0.31, 0.32,\n",
       "       0.33, 0.34, 0.35, 0.36, 0.37, 0.38, 0.39, 0.4 , 0.41, 0.42, 0.43,\n",
       "       0.44, 0.45, 0.46, 0.47, 0.48, 0.49, 0.5 , 0.51, 0.52, 0.53, 0.54,\n",
       "       0.55, 0.56, 0.57, 0.58, 0.59, 0.6 , 0.61, 0.62, 0.63, 0.64, 0.65,\n",
       "       0.66, 0.67, 0.68, 0.69, 0.7 , 0.71, 0.72, 0.73, 0.74, 0.75, 0.76,\n",
       "       0.77, 0.78, 0.79, 0.8 , 0.81, 0.82, 0.83, 0.84, 0.85, 0.86, 0.87,\n",
       "       0.88, 0.89, 0.9 , 0.91, 0.92, 0.93, 0.94, 0.95, 0.96, 0.97, 0.98,\n",
       "       0.99, 1.  ])"
      ]
     },
     "execution_count": 86,
     "metadata": {},
     "output_type": "execute_result"
    }
   ],
   "source": [
    "arr7 = np.linspace(0, 1., 101)\n",
    "np.save('arr.npy', arr7)     # 保存到文件\n",
    "q = np.load('arr.npy')    # 从文件读取"
   ]
  },
  {
   "cell_type": "code",
   "execution_count": null,
   "metadata": {},
   "outputs": [],
   "source": []
  }
 ],
 "metadata": {
  "kernelspec": {
   "display_name": "Python 3",
   "language": "python",
   "name": "python3"
  },
  "language_info": {
   "codemirror_mode": {
    "name": "ipython",
    "version": 3
   },
   "file_extension": ".py",
   "mimetype": "text/x-python",
   "name": "python",
   "nbconvert_exporter": "python",
   "pygments_lexer": "ipython3",
   "version": "3.4.3"
  }
 },
 "nbformat": 4,
 "nbformat_minor": 2
}
