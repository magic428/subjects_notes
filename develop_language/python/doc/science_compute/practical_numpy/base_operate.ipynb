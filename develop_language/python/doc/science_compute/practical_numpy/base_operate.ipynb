{
 "cells": [
  {
   "cell_type": "markdown",
   "metadata": {},
   "source": [
    "# numpy 基本操作   \n"
   ]
  },
  {
   "cell_type": "markdown",
   "metadata": {},
   "source": [
    "## reshape 操作   \n",
    "\n",
    "```python\n",
    "reshape(a, newshape, order='C')    \n",
    "```\n",
    "\n",
    "在不改变数组 a 数据的情况下改变数组的维度.   \n"
   ]
  },
  {
   "cell_type": "code",
   "execution_count": 5,
   "metadata": {},
   "outputs": [],
   "source": [
    "import numpy as np\n",
    "a0 = np.arange(6).reshape((2, 3))\n",
    "a1 = np.arange(6, 12).reshape((2, 3))\n"
   ]
  },
  {
   "cell_type": "markdown",
   "metadata": {},
   "source": [
    "## 数组拼接\n",
    "\n",
    "```python\n",
    "np.vstack(tup)\n",
    "np.hstack(tup)\n",
    "concatenate((a1, a2, ...), axis=0, out=None)\n",
    "np.stack(arrays, axis=0, out=None)\n",
    "```\n",
    "\n",
    "- vstack()  \n",
    "是指沿着纵轴(垂直方向 vertical)拼接两个array    \n",
    "- hstack()  \n",
    "是指沿着横轴(水平方向 horizontal)拼接两个array    \n",
    "- concatenate()   \n",
    "实现更广义的拼接，下面代码中 hstack() 后的两句依次等效于 vstack 和 hstack.    \n",
    "- stack    \n",
    "不是单纯意义的拼接, 而是在输入数组的基础上增加一个新的维度轴.    \n",
    "\n",
    "vstack, hstack, concatenate 不会新增一个维度, 只是会改变原有维度轴上的元素个数, 并不会增加维度轴.  \n"
   ]
  },
  {
   "cell_type": "code",
   "execution_count": 2,
   "metadata": {},
   "outputs": [],
   "source": [
    "m = np.vstack((a0, a1))\n",
    "n = np.hstack((a0, a1))\n",
    "p = np.concatenate((a0, a1), axis=0)   # 等效于vstack()\n",
    "q = np.concatenate((a0, a1), axis=-1)   # 等效于vstack()\n",
    "s = np.stack((a0, a1))"
   ]
  },
  {
   "cell_type": "markdown",
   "metadata": {},
   "source": [
    "## split()    \n",
    "\n",
    "切分数组为子数组\n",
    "\n",
    "```python\n",
    "np.split(ary, indices_or_sections, axis=0)\n",
    "```    \n",
    "\n",
    "- 平均分成3份\n",
    "g = np.split(np.arange(9), 3)   \n",
    "- 按照下标位置进行划分, 那么有两个下标会分成3个子数组.    \n",
    "h = np.split(np.arange(9), [2, -3])   "
   ]
  },
  {
   "cell_type": "markdown",
   "metadata": {},
   "source": [
    "## 数组的转置, 旋转, 翻转    \n",
    "\n",
    "```python\n",
    "np.transpose(a, axes=None)    # a.transpose(*axes)\n",
    "np.rot90(m, k=1, axes=(0, 1))   \n",
    "np.fliplr(m)\n",
    "np.roll(a, shift, axis=None)\n",
    "```\n",
    "\n",
    "- transpose()   \n",
    "等价于 .T, 默认转置将维度倒序，对于2维就是横纵轴互换.   \n",
    "- np.rot90(m, k=1, axes=(0, 1))   \n",
    "在 axes 指定的平面内逆时针旋转90度，第二个参数是旋转次数.    \n",
    "- np.fliplr(u)  \n",
    "沿纵轴左右翻转    \n",
    "- np.flipud(u)  \n",
    "沿水平轴上下翻转    \n",
    "- np.roll(u, 1)  \n",
    "按照一维顺序滚动, 位移为1    \n",
    "- np.roll(u, 1, axis=1)  \n",
    "按照指定轴滚动元素, 位移为1   \n"
   ]
  },
  {
   "cell_type": "code",
   "execution_count": 6,
   "metadata": {},
   "outputs": [],
   "source": [
    "t = s.transpose((2, 0, 1))\n",
    "t = s.T\n",
    "r = np.roll(t, 2, axis=0)"
   ]
  }
 ],
 "metadata": {
  "kernelspec": {
   "display_name": "Python 3",
   "language": "python",
   "name": "python3"
  },
  "language_info": {
   "codemirror_mode": {
    "name": "ipython",
    "version": 3
   },
   "file_extension": ".py",
   "mimetype": "text/x-python",
   "name": "python",
   "nbconvert_exporter": "python",
   "pygments_lexer": "ipython3",
   "version": "3.4.3"
  }
 },
 "nbformat": 4,
 "nbformat_minor": 2
}
