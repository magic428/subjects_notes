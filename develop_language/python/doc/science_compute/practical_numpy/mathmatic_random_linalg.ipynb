{
 "cells": [
  {
   "cell_type": "markdown",
   "metadata": {},
   "source": [
    "# numpy 数学运算, 随机数, 线性代数   \n",
    "\n",
    "对于一维的 array, 只要是 Python 列表支持的下标相关的方法, array也都支持，所以在此没有特别列出。\n"
   ]
  },
  {
   "cell_type": "markdown",
   "metadata": {},
   "source": [
    "## 1. 基础数学运算\n",
    "\n",
    "既然叫numerical python，基础数学运算也是强大的.   \n",
    "\n",
    "\n",
    "np.abs()   绝对值   \n",
    "np.sin()  \n",
    "np.pi  \n",
    "np.cos()  \n",
    "np.arctanh()  反正切   \n",
    "np.exp()  \n",
    "np.power()  \n",
    "np.dot()  \n",
    "np.sqrt()  \n",
    "np.sum()  \n",
    "np.size()     返回数组中所有元素的个数   \n",
    "np.shape()    返回数组的维度信息   \n",
    "np.max()    \n",
    "np.min()    \n",
    "np.argmax()      返回数组中元素的最大值的索引   \n",
    "np.reval()    \n",
    "np.mean()      返回数组的均值   \n",
    "np.std()  \n",
    "np.flatten()   展开数组   \n",
    "np.ravel('C')  展开数组, 'C' 是按行展开; 'F' 是按列展开   \n",
    "\n",
    "`+`   \n",
    "`-`   \n",
    "`*`    \n",
    "`/`   \n",
    "`**`    幂次   \n",
    "\n"
   ]
  },
  {
   "cell_type": "code",
   "execution_count": 47,
   "metadata": {},
   "outputs": [
    {
     "data": {
      "text/plain": [
       "1"
      ]
     },
     "execution_count": 47,
     "metadata": {},
     "output_type": "execute_result"
    }
   ],
   "source": [
    "import numpy as np\n",
    "\n",
    "a = np.sin(np.pi/2)\n",
    "b = np.exp(1)\n",
    "c = np.dot([1,2,3], [1, 2, 3])\n",
    "\n",
    "a = np.array([[1,2,3], [4, 5, 6]])\n",
    "b = np.array([[1,2,3], [1, 2, 3]])\n",
    "a**b \n"
   ]
  },
  {
   "cell_type": "markdown",
   "metadata": {},
   "source": [
    "## 2. 矩阵运算的广播机制   \n",
    "\n",
    "对于 array，默认执行`对位运算`。   \n",
    "\n",
    "涉及到多个 array 的对位运算需要 array 的维度一致，如果一个 array 的维度和另一个 array 的子维度一致，则在没有对齐的维度上分别执行对位运算，这种机制叫做 `广播（broadcasting）`.    \n",
    "\n",
    "广播机制让计算的表达式保持简洁.    "
   ]
  },
  {
   "cell_type": "code",
   "execution_count": 9,
   "metadata": {},
   "outputs": [
    {
     "data": {
      "text/plain": [
       "array([[ 0,  1,  2],\n",
       "       [ 3,  4,  5],\n",
       "       [ 6,  7,  8],\n",
       "       [ 9, 10, 11]])"
      ]
     },
     "execution_count": 9,
     "metadata": {},
     "output_type": "execute_result"
    }
   ],
   "source": [
    "c = np.array([\n",
    "    [1, 2, 3],\n",
    "    [4, 5, 6],\n",
    "    [7, 8, 9],\n",
    "    [10, 11, 12]\n",
    "])\n",
    "d = np.array([2, 2, 2])\n",
    "c-1"
   ]
  },
  {
   "cell_type": "markdown",
   "metadata": {},
   "source": [
    "## 3. 线性代数模块（linalg）\n",
    "\n",
    "在深度学习相关的数据处理和运算中，线性代数模块（linalg）是最常用的之一。    \n",
    "\n",
    "结合numpy提供的基本函数，可以对向量，矩阵，或是说多维张量进行一些基本的运算.   \n",
    "\n",
    "np.linalg.norm(a)  向量的模     \n",
    "np.linalg.det(b)   矩阵的行列式\n",
    "np.linalg.matrix_rank(b)  求矩阵的秩\n",
    "np.dot(b, c)       矩阵和向量的乘法   \n",
    "np.trace(b)        矩阵的迹   \n",
    "u, v = np.linalg.eig(d)  求矩阵的特征值和特征向量.   \n",
    "l = np.linalg.cholesky(d)  Cholesky 分解并重建, np.dot(l, l.T) == d\n",
    "U, s, V = np.linalg.svd(e) 对不镇定矩阵，进行 SVD 分解并重建\n",
    "\n",
    "**Note**    \n",
    "\n",
    "np.linalg.eig()是一般情况的本征值分解，对于更常见的对称实数矩阵.    \n",
    "\n",
    "np.linalg.eigh()更快且更稳定，不过输出的值的顺序和eig()是相反的.    \n"
   ]
  },
  {
   "cell_type": "code",
   "execution_count": 20,
   "metadata": {},
   "outputs": [
    {
     "data": {
      "text/plain": [
       "array([[1., 2., 3.],\n",
       "       [4., 8., 6.],\n",
       "       [7., 8., 9.]])"
      ]
     },
     "execution_count": 20,
     "metadata": {},
     "output_type": "execute_result"
    }
   ],
   "source": [
    "a = np.array([3, 4])\n",
    "np.linalg.norm(a)\n",
    "\n",
    "b = np.array([\n",
    "    [1, 2, 3],\n",
    "    [4, 8, 6],\n",
    "    [7, 8, 9]\n",
    "])\n",
    "d = np.array([\n",
    "    [1, 0, 0],\n",
    "    [0, 8, 0],\n",
    "    [0, 0, 9]\n",
    "])\n",
    "c = np.array([1, 0, 1])\n",
    "np.trace(b)\n",
    "np.linalg.det(d)\n",
    "\n",
    "# Cholesky 还原\n",
    "l = np.linalg.cholesky(d)\n",
    "np.dot(l, l.T)\n",
    "\n",
    "\n",
    "# svd 还原\n",
    "U, s, V = np.linalg.svd(b)\n",
    "S = np.array([\n",
    "    [s[0], 0, 0],\n",
    "    [0, s[1], 0],\n",
    "    [0, 0, s[2]]\n",
    "])\n",
    "np.dot(U, np.dot(S, V))"
   ]
  },
  {
   "cell_type": "markdown",
   "metadata": {},
   "source": [
    "## 4. 随机模块（random）\n",
    "\n",
    "随机模块包含了随机数产生和统计分布相关的基本函数，Python 本身也有随机模块 random，不过 numpy 的随机模块功能更丰富.   \n",
    "\n",
    "\n",
    "random.rand(1, 3)   产生一个1x3，`[0,1)`之间的浮点型随机数   \n",
    "random.random(n)     产生 n 个`[0,1)`之间的浮点型随机数    random.uniform(low, high, size)   产生 size 个`[low, high)`之间的浮点型随机数    \n",
    "random.randint(1, 6, 10)  产生10个`[1,6)`之间的整型随机数  \n",
    "random.normal(size=(5, 2))  产生 2x5 的标准正态分布样本  \n",
    "random.binomial(n=5, p=0.5, size=5) 产生5个，n=5，p=0.5的二项分布样本   \n",
    "random.choice(a, 7)   从 a 中有回放的随机采样7个   \n",
    "random.choice(a, 7, replace=False)   从a中无回放的随机采样7个   \n",
    "b = random.permutation(a)  a 进行乱序并返回一个新的array   \n",
    "random.shuffle(a)   对a进行in-place乱序    \n",
    "random.bytes(9)   生成一个长度为9的随机bytes序列并作为str返回   \n"
   ]
  },
  {
   "cell_type": "code",
   "execution_count": 44,
   "metadata": {},
   "outputs": [
    {
     "data": {
      "text/plain": [
       "b'\"\\xa6\\xad\\x8f\\xc0\\x13\\xe3x\\xe2'"
      ]
     },
     "execution_count": 44,
     "metadata": {},
     "output_type": "execute_result"
    }
   ],
   "source": [
    "import numpy.random as random\n",
    "random.seed(42)\n",
    "\n",
    "random.rand(1, 2)\n",
    "random.random()\n",
    "\n",
    "# 下边4个没有区别，都是按照指定大小产生[0,1)之间的浮点型随机数array，不Pythonic…\n",
    "random.random((3, 3))\n",
    "random.sample((3, 3))\n",
    "random.random_sample((3, 3))\n",
    "random.ranf((3, 3))\n",
    "\n",
    "random.random(10)\n",
    "random.uniform(1, 6, 3)\n",
    "random.normal(size = (5, 2))\n",
    "a = np.arange(10)\n",
    "random.choice(a, 7)\n",
    "random.choice(a, 7, replace=False)\n",
    "random.permutation(a)\n",
    "random.shuffle(a)\n",
    "random.bytes(9)\n"
   ]
  },
  {
   "cell_type": "markdown",
   "metadata": {},
   "source": [
    "随机模块可以很方便地让我们做一些快速模拟去验证一些结论。   \n",
    "\n",
    "比如来考虑一个非常违反直觉的概率题例子：一个选手去参加一个TV秀，有三扇门，其中一扇门后有奖品，这扇门只有主持人知道。选手先随机选一扇门，但并不打开，主持人看到后，会打开其余两扇门中没有奖品的一扇门。然后，主持人问选手，是否要改变一开始的选择？    \n",
    "\n",
    "这个问题的答案是应该改变一开始的选择。在第一次选择的时候，选错的概率是2/3，选对的概率是1/3。第一次选择之后，主持人相当于帮忙剔除了一个错误答案，所以如果一开始选的是错的，这时候换掉就选对了；而如果一开始就选对，则这时候换掉就错了。根据以上，一开始选错的概率就是换掉之后选对的概率（2/3），这个概率大于一开始就选对的概率（1/3），所以应该换。虽然道理上是这样，但是还是有些绕，要是通过推理就是搞不明白怎么办，没关系，用随机模拟就可以轻松得到答案.\n",
    "  "
   ]
  },
  {
   "cell_type": "code",
   "execution_count": null,
   "metadata": {},
   "outputs": [],
   "source": [
    "import numpy.random as random\n",
    "\n",
    "random.seed(42)\n",
    "\n",
    "# 做10000次实验\n",
    "n_tests = 10000\n",
    "\n",
    "# 生成每次实验的奖品所在的门的编号\n",
    "# 0表示第一扇门，1表示第二扇门，2表示第三扇门\n",
    "winning_doors = random.randint(0, 3, n_tests)\n",
    "\n",
    "# 记录如果换门的中奖次数\n",
    "change_mind_wins = 0\n",
    "\n",
    "# 记录如果坚持的中奖次数\n",
    "insist_wins = 0\n",
    "\n",
    "# winning_door就是获胜门的编号\n",
    "for winning_door in winning_doors:\n",
    "\n",
    "    # 随机挑了一扇门\n",
    "    first_try = random.randint(0, 3)\n",
    "    \n",
    "    # 其他门的编号\n",
    "    remaining_choices = [i for i in range(3) if i != first_try]\n",
    "  \n",
    "    # 没有奖品的门的编号，这个信息只有主持人知道\n",
    "    wrong_choices = [i for i in range(3) if i != winning_door]\n",
    "\n",
    "    # 一开始选择的门主持人没法打开，所以从主持人可以打开的门中剔除\n",
    "    if first_try in wrong_choices:\n",
    "        wrong_choices.remove(first_try)\n",
    "    \n",
    "    # 这时wrong_choices变量就是主持人可以打开的门的编号\n",
    "    # 注意此时如果一开始选择正确，则可以打开的门是两扇，主持人随便开一扇门\n",
    "    # 如果一开始选到了空门，则主持人只能打开剩下一扇空门\n",
    "    screened_out = random.choice(wrong_choices)\n",
    "    remaining_choices.remove(screened_out)\n",
    "    \n",
    "    # 所以虽然代码写了好些行，如果策略固定的话，\n",
    "    # 改变主意的获胜概率就是一开始选错的概率，是2/3\n",
    "    # 而坚持选择的获胜概率就是一开始就选对的概率，是1/3\n",
    "    \n",
    "    # 现在除了一开始选择的编号，和主持人帮助剔除的错误编号，只剩下一扇门\n",
    "    # 如果要改变注意则这扇门就是最终的选择\n",
    "    changed_mind_try = remaining_choices[0]\n",
    "\n",
    "    # 结果揭晓，记录下来\n",
    "    change_mind_wins += 1 if changed_mind_try == winning_door else 0\n",
    "    insist_wins += 1 if first_try == winning_door else 0\n",
    "\n",
    "# 输出10000次测试的最终结果，和推导的结果差不多：\n",
    "# You win 6616 out of 10000 tests if you changed your mind\n",
    "# You win 3384 out of 10000 tests if you insist on the initial choice\n",
    "print(\n",
    "    'You win {1} out of {0} tests if you changed your mind\\n'\n",
    "    'You win {2} out of {0} tests if you insist on the initial choice'.format(\n",
    "        n_tests, change_mind_wins, insist_wins\n",
    "        )\n",
    ")\n"
   ]
  },
  {
   "cell_type": "markdown",
   "metadata": {},
   "source": [
    "## 5. 最大最小化   \n",
    "\n",
    "- np.maximum(a,b,c,…..) 返回每个索引位置上的最大值，np.minimum(…….) 相反   \n"
   ]
  },
  {
   "cell_type": "code",
   "execution_count": 31,
   "metadata": {},
   "outputs": [
    {
     "name": "stdout",
     "output_type": "stream",
     "text": [
      "(5, 5)\n",
      "(4, 5)\n",
      "[[ 7 15 11  8  7]\n",
      " [19 11 11  4  8]\n",
      " [ 3  2 12  6  2]\n",
      " [ 1 12 12 17 10]\n",
      " [16 15 15 19 12]]\n",
      "I= [[ 7 15 11  8  7]\n",
      " [ 3  2 12  6  2]\n",
      " [16 15 15 19 12]]\n"
     ]
    },
    {
     "data": {
      "text/plain": [
       "[0, 1, 2, 3, 4]"
      ]
     },
     "execution_count": 31,
     "metadata": {},
     "output_type": "execute_result"
    }
   ],
   "source": []
  },
  {
   "cell_type": "code",
   "execution_count": null,
   "metadata": {},
   "outputs": [],
   "source": []
  },
  {
   "cell_type": "code",
   "execution_count": null,
   "metadata": {},
   "outputs": [],
   "source": []
  }
 ],
 "metadata": {
  "kernelspec": {
   "display_name": "Python 3",
   "language": "python",
   "name": "python3"
  },
  "language_info": {
   "codemirror_mode": {
    "name": "ipython",
    "version": 3
   },
   "file_extension": ".py",
   "mimetype": "text/x-python",
   "name": "python",
   "nbconvert_exporter": "python",
   "pygments_lexer": "ipython3",
   "version": "3.4.3"
  }
 },
 "nbformat": 4,
 "nbformat_minor": 2
}
