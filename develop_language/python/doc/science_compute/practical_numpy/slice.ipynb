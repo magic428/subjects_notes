{
 "cells": [
  {
   "cell_type": "markdown",
   "metadata": {},
   "source": [
    "# array 的切片访问\n"
   ]
  },
  {
   "cell_type": "markdown",
   "metadata": {},
   "source": [
    "## 1. list 作为行或列索引    \n",
    "\n",
    "```python\n",
    "# 选择的行数为[0, 0, 1, 2, 3, 4]\n",
    "I[[0]+[x for x in range(5)], :])  \n",
    "\n",
    "# 选择的列数为[0, 0, 1, 2, 3, 4]\n",
    "I[:, [0]+[x for x in range(5)]])  \n",
    "```\n",
    "其中, `:` 表示全部选择, 即选择改行的所有列.  \n"
   ]
  },
  {
   "cell_type": "code",
   "execution_count": 8,
   "metadata": {},
   "outputs": [],
   "source": [
    "import numpy as np\n",
    "import cv2\n",
    "\n",
    "image = np.zeros((300, 300), dtype=np.uint8)\n",
    "h, w = image.shape\n",
    "\n",
    "image[np.arange(20), 0:20] = 255\n",
    "\n",
    "cv2.imshow(\"demo\", image)\n",
    "if(cv2.waitKey(0) == 27):\n",
    "    cv2.destroyAllWindows()"
   ]
  },
  {
   "cell_type": "markdown",
   "metadata": {},
   "source": [
    "## 2. list 的加法和 np.arange() 数组的加法   \n",
    "\n",
    "如果是使用 numpy 的 arange() 函数, 下面这样并不会达到预期的效果, 因为 np.arange 的类型是 numpy.ndarray, 加法操作的意义是将 0 加到数组每个元素上, 而不是在数组最前面增加一个元素:   \n",
    "```python\n",
    "I[[0]+np.arange(h-1), :]\n",
    "```"
   ]
  },
  {
   "cell_type": "code",
   "execution_count": 16,
   "metadata": {},
   "outputs": [
    {
     "name": "stdout",
     "output_type": "stream",
     "text": [
      "[0, 0, 1, 2, 3, 4]\n",
      "[3 4 5 6 7]\n"
     ]
    }
   ],
   "source": [
    "import numpy as np\n",
    "\n",
    "l1 = [x for x in range(5)]\n",
    "print([0] + l1)\n",
    "\n",
    "l2 = np.arange(5)\n",
    "print([3]+ l2)"
   ]
  },
  {
   "cell_type": "markdown",
   "metadata": {},
   "source": [
    "## 3. 切片范围和坐标点的区别   \n",
    "\n",
    "在数组中使用切片的时候, 如果使用如下形式:   \n",
    "```python\n",
    "image[np.arange(20), np.arange(20)] = 255\n",
    "```\n",
    "那么最终的效果是去修改一条直线, 因为 (np.arange(20), np.arange(20)) 会构成一对坐标索引, 实际表示的是矩阵的对角线.   \n"
   ]
  },
  {
   "cell_type": "code",
   "execution_count": 9,
   "metadata": {},
   "outputs": [],
   "source": [
    "image = np.zeros((300, 300), dtype=np.uint8)\n",
    "h, w = image.shape\n",
    "\n",
    "image[np.arange(20), np.arange(20)] = 255\n",
    "\n",
    "cv2.imshow(\"demo\", image)\n",
    "if(cv2.waitKey(0) == 27):\n",
    "    cv2.destroyAllWindows()"
   ]
  }
 ],
 "metadata": {
  "kernelspec": {
   "display_name": "Python 3",
   "language": "python",
   "name": "python3"
  },
  "language_info": {
   "codemirror_mode": {
    "name": "ipython",
    "version": 3
   },
   "file_extension": ".py",
   "mimetype": "text/x-python",
   "name": "python",
   "nbconvert_exporter": "python",
   "pygments_lexer": "ipython3",
   "version": "3.4.3"
  }
 },
 "nbformat": 4,
 "nbformat_minor": 2
}
