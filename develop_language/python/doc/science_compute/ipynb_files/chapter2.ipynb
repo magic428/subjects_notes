{
 "cells": [
  {
   "cell_type": "markdown",
   "metadata": {},
   "source": [
    "# array 对象   \n",
    "\n",
    "2.1 ndarray 对象   \n",
    "2.1.1 创建 array   "
   ]
  },
  {
   "cell_type": "code",
   "execution_count": 2,
   "metadata": {},
   "outputs": [
    {
     "name": "stdout",
     "output_type": "stream",
     "text": [
      "((4,), (4,), (3, 4))\n",
      "('c:\\n', array([[ 1,  2,  3,  4,  5,  6,  7,  8,  9, 10, 11, 12]]), '\\nd:\\n', array([[ 1,  2,  3,  4,  5,  6],\n",
      "       [ 7,  8,  9, 10, 11, 12]]))\n"
     ]
    }
   ],
   "source": [
    "import numpy as np\n",
    "from __future__ import print_function\n",
    "#print(help(print))\n",
    "debug = True\n",
    "#debug = False\n",
    "def printd(*args):\n",
    "    if debug:\n",
    "        print(args)\n",
    "        \n",
    "\n",
    "a = np.array((1,2,3,4), dtype = np.int16)\n",
    "b = np.array([5,6,7,8], dtype = np.int32)\n",
    "c = np.array([[1,2,3,4], [5,6,7,8], [9, 10, 11, 12]])\n",
    "printd(a.shape, b.shape, c.shape)\n",
    "c.shape = (4,3)     # 按照元素在内存中的存储顺序重新分配行和列\n",
    "c.shape = (1, -1)   # 第二个维度自动推算\n",
    "d = c.reshape(2,-1) # 使用reshape()方法可以创建指定形状的新数组,而原数组的形状保持不变.需要注意的是c和d会共享存储空间.\n",
    "printd('c:\\n',c,'\\nd:\\n',d)"
   ]
  },
  {
   "cell_type": "markdown",
   "metadata": {},
   "source": [
    "2.1.2 元素类型"
   ]
  },
  {
   "cell_type": "code",
   "execution_count": 9,
   "metadata": {
    "scrolled": true
   },
   "outputs": [
    {
     "name": "stdout",
     "output_type": "stream",
     "text": [
      "[12, 'double', 'f8', 'float', 'float_', 'd', 'float64', 'Float64']\n",
      "[(0, <class 'numpy.bool_'>), ('P', <class 'numpy.uint64'>), (2, <class 'numpy.uint8'>), (3, <class 'numpy.int16'>), (4, <class 'numpy.uint16'>), (5, <class 'numpy.int32'>), (6, <class 'numpy.uint32'>), (1, <class 'numpy.int8'>), (8, <class 'numpy.uint64'>), (9, <class 'numpy.int64'>), (10, <class 'numpy.uint64'>), (11, <class 'numpy.float32'>), (12, <class 'numpy.float64'>), (13, <class 'numpy.float128'>), (14, <class 'numpy.complex64'>), (15, <class 'numpy.complex128'>), (16, <class 'numpy.complex256'>), (17, <class 'numpy.object_'>), (18, <class 'numpy.bytes_'>), (19, <class 'numpy.str_'>), ('ubyte', <class 'numpy.uint8'>), (21, <class 'numpy.datetime64'>), (22, <class 'numpy.timedelta64'>), (23, <class 'numpy.float16'>), ('float32', <class 'numpy.float32'>), ('c32', <class 'numpy.complex256'>), ('Object0', <class 'numpy.object_'>), ('clongfloat', <class 'numpy.complex256'>), ('uintp', <class 'numpy.uint64'>), ('Timedelta64', <class 'numpy.timedelta64'>), ('double', <class 'numpy.float64'>), ('timedelta64', <class 'numpy.timedelta64'>), ('int16', <class 'numpy.int16'>), ('int64', <class 'numpy.int64'>), ('uintc', <class 'numpy.uint32'>), ('B', <class 'numpy.uint8'>), ('str0', <class 'numpy.str_'>), ('S', <class 'numpy.bytes_'>), ('p', <class 'numpy.int64'>), ('longdouble', <class 'numpy.float128'>), ('int8', <class 'numpy.int8'>), ('bytes0', <class 'numpy.bytes_'>), ('f4', <class 'numpy.float32'>), ('intc', <class 'numpy.int32'>), ('complex_', <class 'numpy.complex128'>), ('object0', <class 'numpy.object_'>), ('m8', <class 'numpy.timedelta64'>), ('clongdouble', <class 'numpy.complex256'>), ('ushort', <class 'numpy.uint16'>), ('float128', <class 'numpy.float128'>), ('h', <class 'numpy.int16'>), ('F', <class 'numpy.complex64'>), ('unicode_', <class 'numpy.str_'>), ('uint0', <class 'numpy.uint64'>), ('G', <class 'numpy.complex256'>), ('U', <class 'numpy.str_'>), ('q', <class 'numpy.int64'>), ('f2', <class 'numpy.float16'>), ('Void0', <class 'numpy.void'>), ('longcomplex', <class 'numpy.complex256'>), ('uint64', <class 'numpy.uint64'>), ('b1', <class 'numpy.bool_'>), ('longfloat', <class 'numpy.float128'>), ('int0', <class 'numpy.int64'>), ('f', <class 'numpy.float32'>), ('Float16', <class 'numpy.float16'>), ('uint32', <class 'numpy.uint32'>), ('complex128', <class 'numpy.complex128'>), ('uint', <class 'numpy.uint64'>), ('Complex32', <class 'numpy.complex64'>), ('i', <class 'numpy.int32'>), ('Complex128', <class 'numpy.complex256'>), ('int32', <class 'numpy.int32'>), ('str', <class 'numpy.str_'>), ('?', <class 'numpy.bool_'>), ('Float128', <class 'numpy.float128'>), ('f8', <class 'numpy.float64'>), ('float', <class 'numpy.float64'>), ('Bool', <class 'numpy.bool_'>), ('float_', <class 'numpy.float64'>), ('Int32', <class 'numpy.int32'>), ('ulonglong', <class 'numpy.uint64'>), ('intp', <class 'numpy.int64'>), ('Q', <class 'numpy.uint64'>), (20, <class 'numpy.void'>), ('bool_', <class 'numpy.bool_'>), ('Float32', <class 'numpy.float32'>), ('complex256', <class 'numpy.complex256'>), ('M', <class 'numpy.datetime64'>), ('unicode', <class 'numpy.str_'>), ('bytes_', <class 'numpy.bytes_'>), ('UInt16', <class 'numpy.uint16'>), ('M8', <class 'numpy.datetime64'>), ('a', <class 'numpy.bytes_'>), ('UInt8', <class 'numpy.uint8'>), ('uint8', <class 'numpy.uint8'>), ('L', <class 'numpy.uint64'>), ('Str0', <class 'numpy.str_'>), ('m', <class 'numpy.timedelta64'>), ('H', <class 'numpy.uint16'>), ('float16', <class 'numpy.float16'>), ('Bytes0', <class 'numpy.bytes_'>), ('d', <class 'numpy.float64'>), ('f16', <class 'numpy.float128'>), ('Datetime64', <class 'numpy.datetime64'>), ('D', <class 'numpy.complex128'>), ('u2', <class 'numpy.uint16'>), ('c8', <class 'numpy.complex64'>), ('V', <class 'numpy.void'>), ('u8', <class 'numpy.uint64'>), ('i1', <class 'numpy.int8'>), ('uint16', <class 'numpy.uint16'>), ('object_', <class 'numpy.object_'>), ('bool', <class 'numpy.bool_'>), ('datetime64', <class 'numpy.datetime64'>), ('void0', <class 'numpy.void'>), ('short', <class 'numpy.int16'>), ('b', <class 'numpy.int8'>), ('half', <class 'numpy.float16'>), ('i2', <class 'numpy.int16'>), ('c16', <class 'numpy.complex128'>), ('int', <class 'numpy.int64'>), ('cfloat', <class 'numpy.complex128'>), ('u4', <class 'numpy.uint32'>), ('i4', <class 'numpy.int32'>), ('bool8', <class 'numpy.bool_'>), ('bytes', <class 'numpy.bytes_'>), ('UInt64', <class 'numpy.uint64'>), ('byte', <class 'numpy.int8'>), ('longlong', <class 'numpy.int64'>), ('Complex64', <class 'numpy.complex128'>), ('str_', <class 'numpy.str_'>), ('e', <class 'numpy.float16'>), ('O', <class 'numpy.object_'>), (7, <class 'numpy.int64'>), ('g', <class 'numpy.float128'>), ('single', <class 'numpy.float32'>), ('i8', <class 'numpy.int64'>), ('object', <class 'numpy.object_'>), ('cdouble', <class 'numpy.complex128'>), ('int_', <class 'numpy.int64'>), ('I', <class 'numpy.uint32'>), ('Int8', <class 'numpy.int8'>), ('Int16', <class 'numpy.int16'>), ('singlecomplex', <class 'numpy.complex64'>), ('Int64', <class 'numpy.int64'>), ('long', <class 'numpy.int64'>), ('string_', <class 'numpy.bytes_'>), ('UInt32', <class 'numpy.uint32'>), ('u1', <class 'numpy.uint8'>), ('float64', <class 'numpy.float64'>), ('Float64', <class 'numpy.float64'>), ('complex', <class 'numpy.complex128'>), ('csingle', <class 'numpy.complex64'>), ('l', <class 'numpy.int64'>), ('complex64', <class 'numpy.complex64'>), ('void', <class 'numpy.void'>)]\n",
      "{<class 'numpy.float64'>, <class 'numpy.uint32'>, <class 'numpy.int32'>, <class 'numpy.bytes_'>, <class 'numpy.complex64'>, <class 'numpy.float32'>, <class 'numpy.uint16'>, <class 'numpy.int16'>, <class 'numpy.bool_'>, <class 'numpy.timedelta64'>, <class 'numpy.float16'>, <class 'numpy.uint8'>, <class 'numpy.int8'>, <class 'numpy.object_'>, <class 'numpy.datetime64'>, <class 'numpy.uint64'>, <class 'numpy.int64'>, <class 'numpy.void'>, <class 'numpy.complex256'>, <class 'numpy.float128'>, <class 'numpy.uint64'>, <class 'numpy.int64'>, <class 'numpy.str_'>, <class 'numpy.complex128'>}\n",
      "(<class 'numpy.int16'>, <class 'numpy.int32'>, <class 'numpy.int64'>)\n",
      "(-25536,)\n"
     ]
    },
    {
     "name": "stderr",
     "output_type": "stream",
     "text": [
      "/usr/local/lib/python3.4/dist-packages/ipykernel_launcher.py:12: RuntimeWarning: overflow encountered in short_scalars\n",
      "  if sys.path[0] == '':\n"
     ]
    },
    {
     "name": "stdout",
     "output_type": "stream",
     "text": [
      "74.1 ns ± 1.09 ns per loop (mean ± std. dev. of 7 runs, 10000000 loops each)\n",
      "115 ns ± 6.32 ns per loop (mean ± std. dev. of 7 runs, 10000000 loops each)\n",
      "(<class 'numpy.float64'>, <class 'numpy.complex128'>, <class 'numpy.int32'>, <class 'numpy.complex64'>)\n"
     ]
    }
   ],
   "source": [
    "l = [key for key,val in np.typeDict.items() if val is np.float64]\n",
    "print(l)\n",
    "s = [0,1,2,3,4,5,6,7,8,9]\n",
    "l = [i for i in s if i % 2== 0]\n",
    "l = [(key, val) for key,val in np.typeDict.items()]\n",
    "print(l)\n",
    "\n",
    "print(set(np.typeDict.values()))\n",
    "printd(a.dtype.type, b.dtype.type, c.dtype.type)\n",
    "\n",
    "n = np.int16(200)    # 创建一个16位的符号整数对象  \n",
    "printd(n*n)\n",
    "\n",
    "v1 = 3.14\n",
    "v2 = np.float64(v1)  # 创建一个16位的符号整数对象  \n",
    "%timeit v1*v1\n",
    "%timeit v2*v2\n",
    "\n",
    "# 使用 astype() 方法可以对数组的元素类型进行转换\n",
    "t1 = np.array([1,2,3,4], dtype = np.float)\n",
    "t2 = np.array([1,2,3,4], dtype = np.complex)\n",
    "\n",
    "t3 = t1.astype(np.int32)\n",
    "t4 = t2.astype(np.complex64)\n",
    "printd(t1.dtype.type, t2.dtype.type, t3.dtype.type, t4.dtype.type)"
   ]
  },
  {
   "cell_type": "markdown",
   "metadata": {},
   "source": [
    "2.1.3 自动生成数组   \n",
    "(1) arange(), linspace(), logspace()   \n",
    "logspace()中默认的 base 为 10;    \n",
    "(2) zeros() ones() empty() full()   \n",
    "其中 empty() 只分配数组所使用的内存, 不对数组元素进行初始化操作, 因此其运行速度速度是最快的.   \n",
    "zeros()将数组初始化为 0;   \n",
    "ones()将数组初始化为 1;   \n",
    "full() 将数组指定为特定值;   \n",
    "(3) zeros_like() ones_like() empty_like() full_like()   \n",
    "这些函数创建与参数数组形状和类型相同的数组, 因此, zeros_like(a) 和 zeros(a.shape, a.dtype)的效果相同.   \n",
    "(4) fromebuffer() fromstring() fromfile()等函数可以从字节序列或文件创建数组.\n",
    "fromstring() 会复制字符串的字节序列的一份副本;   \n",
    "frombuffer() 创建的数组和字符串共享存储空间;   \n",
    "由于字符串是只读的(不可变)对象,因此不能对数组元素进行修改.   \n",
    "(5) fromfunction()   \n",
    "可以先定义一个使用下标计算数值的函数,然后用fromfunction()调用此函数创建数组.   "
   ]
  },
  {
   "cell_type": "code",
   "execution_count": 22,
   "metadata": {},
   "outputs": [],
   "source": [
    "# arange(), linspace(), logspace() \n",
    "a = np.arange(0,1,0.1)\n",
    "b = np.linspace(0,1,10,endpoint = False)\n",
    "c = np.logspace(0,2,10, base = 2)      # 默认的 base 为 10, 这里重写为 2, 从 10^0 到 10^2 \n",
    "printd(a, '\\n', b, '\\n', c)\n",
    "\n",
    "# zeros() ones() empty()\n",
    "# 其中 empty() 只分配数组所使用的内存, 不对数组元素进行初始化操作, 因此其运行速度速度是最快的.\n",
    "a = np.empty((2,3), np.int)\n",
    "b = np.zeros((4,5), np.int)\n",
    "c = np.ones((3,4), np.int)  \n",
    "d = np.full(4, np.pi)        # np.pi 就是 π\n",
    "printd(a,'\\n', b, '\\n', c, '\\n', d)\n",
    "\n",
    "# zeros_like() ones_like() empty_like() full_like()\n",
    "# 等函数创建与参数数组形状和类型相同的数组, 因此, zeros_like(a) 和 zeros(a.shape, a.dtype)的效果相同\n",
    "\n",
    "# fromebuffer() fromstring() fromfile()等函数可以从字节序列或文件创建数组.\n",
    "s = \"abcdefgh\"\n",
    "s1 = np.fromstring(s, dtype = np.int8)   # 创建一个 8 位的整数数组, 每个字符表示一个元素    \n",
    "s2 = np.fromstring(s, dtype = np.int16)  # 创建一个 16 位的整数数组, 两个字符表示一个元素   \n",
    "printd(s1, s2)\n",
    "\n",
    "# fromfunction()\n",
    "def func(i, j):\n",
    "    return (i+1)*(j+1)\n",
    "a = np.fromfunction(func, (9,9))\n",
    "printd(a)"
   ]
  },
  {
   "cell_type": "markdown",
   "metadata": {},
   "source": [
    "2.1.4 存取元素   \n",
    "(1) 切片存取;   \n",
    "(2) 整数列表存取, 使用列表中的每个元素作为下标;   \n",
    "(3) 整数数组存取, 当数组为一维数组时,效果和整数列表相同. 当下标数组为多维数组时. 得到的也是和下标数组形状相同的数组;   \n",
    "(4) 布尔数组存取, 注意区别于布尔列表.它获得的数组不和原始数组共享数据内存;   \n",
    "在numpy 1.10 之后的版本中, 布尔列表会被当做布尔数组.   \n",
    "布尔数组一般不是手工产生,而是使用布尔运算函数ufunc()函数产生."
   ]
  },
  {
   "cell_type": "code",
   "execution_count": 40,
   "metadata": {},
   "outputs": [
    {
     "name": "stdout",
     "output_type": "stream",
     "text": [
      "[0 1 2 3 4 5 6 7 8]\n",
      "[0 2 4 6 8]\n",
      "[9 7 5 3 1]\n",
      "[4 2]\n",
      "[12 12  1  8] [12  7  1  8]\n",
      "[8 8 5 0 9 4] [8 8 9]\n"
     ]
    }
   ],
   "source": [
    "a = np.arange(10)\n",
    "\n",
    "# 切片存取\n",
    "print(a[:-1])    # 选取除最后一个元素之外的所有元素   \n",
    "print(a[::2])    # 正向每隔一个元素选择   \n",
    "print(a[::-2])   # 逆向每隔一个元素选择\n",
    "print(a[4:1:-2]) # 从第五个元素开始切片选择  \n",
    "a[2:4] = 10, 12   # 左闭右开\n",
    "# 整数列表存取\n",
    "idx1 = [3,3,1,8]\n",
    "idx2 = [3,-3,1,8]\n",
    "print(a[idx1], a[idx2])\n",
    "# 布尔数组存取\n",
    "x = np.random.randint(0, 10, 6)  # 生成数组长度为 6 , 元素值为 0 到 9 的随机数组.   \n",
    "print(x, x[x > 5])"
   ]
  },
  {
   "cell_type": "code",
   "execution_count": 54,
   "metadata": {},
   "outputs": [
    {
     "name": "stdout",
     "output_type": "stream",
     "text": [
      "[3 4]\n",
      "[[44 45]\n",
      " [54 55]]\n",
      "[[20 22 24]\n",
      " [40 42 44]]\n",
      "[[20 21]\n",
      " [40 41]]\n"
     ]
    }
   ],
   "source": [
    "# python 的广播原理  \n",
    "a = np.arange(0, 60, 10).reshape(-1,1)\n",
    "b = np.arange(0, 6)\n",
    "c = a + b\n",
    "printd(a, \"\\n\", b, \"\\n\", c)\n",
    "printd(c[1,2], c[(1,2)])\n",
    "print(c[0, 3:5])     # 第一行, 第四个到第五个元素\n",
    "print(c[4:, 4:])     # 从第五行和第五列的元素开始到右下角\n",
    "print(c[2::2, ::2])  # 从第三行开始每隔一行选取,从第一列开始,每隔一列选取.\n"
   ]
  },
  {
   "cell_type": "markdown",
   "metadata": {},
   "source": [
    "切片对象   \n",
    "(1) 单独生成切片对象要使用slice()来创建, 三个参数分别为开始值, 结束值, 间隔步长.   \n",
    "当这些值需要省略时,可以使用 None.   \n",
    "例如 (slice(None, None, None), 2) 和 (:, 2) 相同.   \n",
    "(2) 使用 s_ 对象来帮助我们创建数组下标, s_ 是 IndexExpression 类的一个对象.   \n",
    "np.s_[::2, 2:]   \n",
    "\n",
    "\n"
   ]
  },
  {
   "cell_type": "code",
   "execution_count": 55,
   "metadata": {},
   "outputs": [
    {
     "data": {
      "text/plain": [
       "(slice(None, None, 2), slice(2, None, None))"
      ]
     },
     "execution_count": 55,
     "metadata": {},
     "output_type": "execute_result"
    }
   ],
   "source": [
    "np.s_[::2, 2:] "
   ]
  },
  {
   "cell_type": "markdown",
   "metadata": {},
   "source": [
    "结构数组   \n",
    "```python\n",
    "person_type = np.dtype({\n",
    "    'names': ['name', 'age', 'weight'],\n",
    "    'formats': ['|S30', '<i4', '<f4']\n",
    "    \n",
    "    }, align = True)\n",
    "```\n",
    "这里使用类型字符串定义字段类型:   \n",
    "- 'S30': 长度为30个字节的字符串类型;    \n",
    "- 'i':  32 位的整数类型;   \n",
    "- 'f':  32 位的单精度浮点类型, 相当于np.float32;   \n",
    "还可以使用字节顺序字段:    \n",
    "- '|': 忽视字节顺序;   \n",
    "- '>': 低位字节在前, 即小端模式(little end);   \n",
    "- '<': 高位字节在前, 即大端模式(big end); \n",
    "(2) a.tostring() 和 a.tofile() 可以将数组 a 以二进制的方式转换成字符串或写入文件.    \n",
    "(3) %%file 为 IPython 的魔法指令, 它将该单元格中的文本保存成文件 read_srtuct_array.c ."
   ]
  },
  {
   "cell_type": "code",
   "execution_count": 78,
   "metadata": {},
   "outputs": [
    {
     "name": "stdout",
     "output_type": "stream",
     "text": [
      "{'names':['name','age','weight'], 'formats':['S30','<i4','<f2'], 'offsets':[0,32,36], 'itemsize':40, 'aligned':True} [('zhang', 23,  75.5   ) ('Wang', 24,  65.1875)]\n",
      "zhang 23 75.5\n",
      "Wang 24 65.188\n"
     ]
    }
   ],
   "source": [
    "# 使用类型字符串定义字段类型   \n",
    "person_type = np.dtype({\n",
    "    'names': ['name', 'age', 'weight'],\n",
    "    'formats': ['|S30', '<i4', '<f2']\n",
    "    }, align = True)\n",
    "\n",
    "a = np.array([(\"zhang\", 23, 75.5), (\"Wang\", 24, 65.2)], dtype=person_type)\n",
    "print(a.dtype, a)\n",
    "\n",
    "# 访问字段值\n",
    "b = a[0]\n",
    "print(b['name'], b['age'], b['weight'])\n",
    "b = a[1]\n",
    "print(b['name'], b['age'], b['weight'])\n",
    "\n",
    "# 保存到二进制文件\n",
    "a.tofile(\"test.bin\")"
   ]
  },
  {
   "cell_type": "code",
   "execution_count": 77,
   "metadata": {},
   "outputs": [
    {
     "name": "stdout",
     "output_type": "stream",
     "text": [
      "Overwriting read_struct_array.c\n"
     ]
    }
   ],
   "source": [
    "%%file read_struct_array.c\n",
    "#include <stdio.h>\n",
    "struct person{\n",
    "    char name[30];\n",
    "    int age;\n",
    "    float weight;\n",
    "};\n",
    "\n",
    "struct person p[3];\n",
    "\n",
    "void main()\n",
    "{\n",
    "    FILE *fp = NULL;\n",
    "    int i = 0;\n",
    "    fp = fopen(\"test.bin\", \"rb\");\n",
    "    fread(p, sizeof(struct person), 2, fp);\n",
    "    fclose(fp);\n",
    "    \n",
    "    for(i = 0; i < 2; i++){\n",
    "        printf(\"%s, %d, %.4f\\n\", p[i].name, p[i].age, p[i].weight);\n",
    "    }\n",
    "}"
   ]
  },
  {
   "cell_type": "markdown",
   "metadata": {},
   "source": [
    "## ufunc 函数   \n",
    "ufunc 是 universal function 函数的缩写, 它是一种能对数组的每个元素进行运算的函数.\n",
    "1. np.sin()  函数\n",
    "np.sin() 是一个 ufunc 函数, 可以通过 out 参数来指定计算结果的保存变量.   \n",
    "对于数组, np.sin() 函数比 math.sin() 函数快 10 倍多.   \n",
    "对于单个数值, np.sin() 的计算速度只有 math.sin() 的 1/6.   \n",
    "math.sin() 返回的是标准的 float 类型; 而 np.sin() 的返回值是 np.float64.   \n",
    "通过使用数组的 item() 方法可以直接以标准的 python 数值类型返回数组中的单个元素.    \n",
    "2. np.<op>.reduce(array, axis = 0, dtype = None)   \n",
    "沿着参数 axis 指定的轴对数组进行操作,相当于将 <op> 运算符插入到沿着 axis 轴的所有元素之间.  \n",
    "3. accumulate()   \n",
    "和 reduce() 类似, 只是它返回的数组和输入数组的形状相同,保存所有的中间计算结果.  \n",
    "4. outer()   \n",
    "是通过广播的方式计算出来的.   \n",
    "    "
   ]
  },
  {
   "cell_type": "code",
   "execution_count": 100,
   "metadata": {},
   "outputs": [
    {
     "name": "stdout",
     "output_type": "stream",
     "text": [
      "CPU times: user 0 ns, sys: 0 ns, total: 0 ns\n",
      "Wall time: 21 µs\n",
      "CPU times: user 0 ns, sys: 0 ns, total: 0 ns\n",
      "Wall time: 36 µs\n",
      "[ 0.          0.6981317   1.3962634   2.0943951   2.7925268   3.4906585\n",
      "  4.1887902   4.88692191  5.58505361  6.28318531]\n",
      "0.698131700798 <type 'float'> <type 'numpy.float64'>\n",
      "45.0 \n",
      " [ 6 15]\n",
      "[  0.   1.   3.   6.  10.  15.  21.  28.  36.  45.] \n",
      " [[ 1  3  6]\n",
      " [ 4  9 15]]\n"
     ]
    }
   ],
   "source": [
    "# sin()\n",
    "import math\n",
    "x = np.linspace(0, 2*np.pi, 10)\n",
    "%time y = np.sin(x)\n",
    "%time y = [math.sin(t) for t in x]\n",
    "print(x)\n",
    "y is x\n",
    "print(x.item(1), type(x.item(1)), type(x[1]))\n",
    "\n",
    "## reduce()\n",
    "x = np.linspace(0, 9, 10)\n",
    "y = np.array([[1,2,3], [4,5,6]], dtype = np.int)\n",
    "r1 = np.add.reduce(x)\n",
    "r2 = np.add.reduce(y, axis = 1)  #(1+2+3), (4+5+6)\n",
    "print(r1, \"\\n\", r2)\n",
    "## accumulate\n",
    "r1 = np.add.accumulate(x)\n",
    "r2 = np.add.accumulate(y, axis = 1)  #(1+2+3), (4+5+6)\n",
    "print(r1, \"\\n\", r2)"
   ]
  },
  {
   "cell_type": "markdown",
   "metadata": {},
   "source": [
    "## 四则运算  \n",
    "\n",
    "### 1. ufunc 函数    \n",
    "\n",
    "np.add()         # np.add(a, b, a) => a += b    \n",
    "np.substract()    \n",
    "np.multiply()    \n",
    "np.divide()    \n",
    "np.true_divide()   \n",
    "np.floor_divide()   \n",
    "np.negtive()    \n",
    "np.power()   \n",
    "np.remainder() = np.mod()  取模.   "
   ]
  },
  {
   "cell_type": "code",
   "execution_count": 94,
   "metadata": {},
   "outputs": [
    {
     "name": "stdout",
     "output_type": "stream",
     "text": [
      "[ 0.  1.  2.  3.  4.  5.  6.  7.  8.  9.] [  1.00000000e+00   1.00000000e+00   4.00000000e+00   2.70000000e+01\n",
      "   2.56000000e+02   3.12500000e+03   4.66560000e+04   8.23543000e+05\n",
      "   1.67772160e+07   3.87420489e+08]\n",
      "[ nan   0.   0.   0.   0.   0.   0.   0.   0.   0.]\n"
     ]
    },
    {
     "name": "stderr",
     "output_type": "stream",
     "text": [
      "/usr/local/lib/python2.7/dist-packages/ipykernel_launcher.py:3: RuntimeWarning: invalid value encountered in remainder\n",
      "  This is separate from the ipykernel package so we can avoid doing imports until\n"
     ]
    }
   ],
   "source": [
    "x = np.linspace(0, 9, 10)\n",
    "print(x, np.power(x,x))\n",
    "print(np.remainder(x,x))"
   ]
  },
  {
   "cell_type": "markdown",
   "metadata": {},
   "source": [
    "## 布尔数组作为下标    \n",
    "\n",
    "当使用布尔数组直接作为下标对象或者元组下标对象中有布尔数组时, 都相当于用 nonzero()将布尔数组转换为一组整数数组, 然后使用整数数组进行下标运算.    \n",
    "\n",
    "nonzero(a) 返回 a 中值不为 0 的元素的下标, 他的返回值是一个长度为 a.ndim(数组 a 的轴的个数)的元组. 元组的每一个元素都是一个整数数组, 其值为非零元素的下标在对应轴上的值.    \n",
    "\n",
    "因此, 当布尔数组直接作为下标时, 相当于使用由 nonzero()转换之后的元组作为下标对象. 对于下标对象是元组并且其中有布尔数组时, 相当于将布尔数组展开为由 nonzero() 转换之后的各个整数数组.     "
   ]
  },
  {
   "cell_type": "code",
   "execution_count": 6,
   "metadata": {},
   "outputs": [
    {
     "name": "stdout",
     "output_type": "stream",
     "text": [
      "<class 'numpy.ndarray'>\n"
     ]
    }
   ],
   "source": [
    "b1 = np.array([True, False, True, False])\n",
    "np.nonzero(b1)\n",
    "print(type(np.nonzero(b1)[0]))"
   ]
  },
  {
   "cell_type": "code",
   "execution_count": 16,
   "metadata": {},
   "outputs": [
    {
     "name": "stdout",
     "output_type": "stream",
     "text": [
      "[[0 1 2]\n",
      " [3 4 5]]\n",
      "[0 2 3 4]\n",
      "[0 2 3 4]\n",
      "[1 2 3 4 5]\n"
     ]
    }
   ],
   "source": [
    "# b[0][0], b[2][0], b[1][0] 这三个元素不为 0  \n",
    "b2 = np.array([[True, False, True], [True, True, False]])\n",
    "np.nonzero(b2)\n",
    "\n",
    "a = np.arange(2*3).reshape(2,3)\n",
    "print(a)\n",
    "print(a[b2])\n",
    "print(a[np.nonzero(b2)])\n",
    "# 区分 np.nonzero(a) 和 np.nonzero(b2) 之间的区别   \n",
    "print(a[np.nonzero(a)])"
   ]
  },
  {
   "cell_type": "code",
   "execution_count": null,
   "metadata": {},
   "outputs": [],
   "source": []
  }
 ],
 "metadata": {
  "kernelspec": {
   "display_name": "Python 2",
   "language": "python",
   "name": "python2"
  },
  "language_info": {
   "codemirror_mode": {
    "name": "ipython",
    "version": 3
   },
   "file_extension": ".py",
   "mimetype": "text/x-python",
   "name": "python",
   "nbconvert_exporter": "python",
   "pygments_lexer": "ipython3",
   "version": "3.4.3"
  }
 },
 "nbformat": 4,
 "nbformat_minor": 2
}
