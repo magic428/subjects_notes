{
 "cells": [
  {
   "cell_type": "markdown",
   "metadata": {},
   "source": [
    "# 庞大的函数库    \n",
    "\n",
    "除了前面的 ndarray 数组对象和 ufunc 函数之外, numpy 还提供了大量对数组进行处理的函数.     \n",
    "\n",
    "- 随机数;   \n",
    "- 求和, 平均值,方差;    \n",
    "- 大小与排序\n"
   ]
  },
  {
   "cell_type": "markdown",
   "metadata": {},
   "source": [
    "\n",
    "## 1. 随机数      \n",
    "\n",
    "> 对应模块:numpy.random     \n",
    "\n",
    "|函数名|功能|函数参数|\n",
    "| :--- | :---: | :---: |\n",
    "|rand|生成 0 到 1 之间的随机浮点数|它的所有参数用于指定所产生的数组的形状|\n",
    "|randn|生成符合标准正态分布的随机浮点数|它的所有参数用于指定所产生的数组的形状|\n",
    "|randint|生成指定范围内的随机整数|3个参数分别是:起始值,终值,产生数组的形状|\n",
    "|normal|正态分布的随机浮点数|3个参数分别是:期望值,标准差,产生数组的形状|\n",
    "|uniform|均匀分布的随机浮点数|3个参数分别是:区间起始值,区间终值,产生数组的形状|\n",
    "|poisson|泊松分布的随机整数|2个参数分别是: λ 系数,产生数组的形状|\n",
    "|permutation|返回随机排列的列表|如果参数为整数 n, 则返回 `[0, n)` 这n个整数的随机排列; 如果参数为 list, 则对 list 打乱后返回一个新数组|\n",
    "|shuffle|随机打乱顺序|参数为一个给定的 list 序列|\n",
    "|choice|从指定的样本中随机进行抽取|size, replace 指定是否进行重复抽取(True), p 指定每个元素随机抽取到的概率(等概率)|\n",
    "|seed|设置随机种子, 保证每次运行时都能重现相同的随机数|种子初始值|\n",
    "\n",
    "**Note**:   \n",
    "- 这些函数的最后一个参数 size 都是用于指定输出数组的形状, 而其他参数都是分布函数的参数.    \n",
    "- permutation() 返回一个新数组, 而 shuffle() 则直接将参数数组打乱后返回原参数数组.   \n"
   ]
  },
  {
   "cell_type": "code",
   "execution_count": 3,
   "metadata": {},
   "outputs": [
    {
     "name": "stdout",
     "output_type": "stream",
     "text": [
      "r1 =\n",
      " [[0.63 0.74 0.67]\n",
      " [0.6  0.06 0.36]\n",
      " [0.77 0.51 0.32]\n",
      " [0.3  0.99 0.75]] \n",
      "\n",
      "r2 =\n",
      " [[ 1.1   2.01 -0.32]\n",
      " [ 0.09  0.11 -1.35]\n",
      " [ 0.3   0.72 -1.98]\n",
      " [ 0.1  -1.62  0.7 ]] \n",
      "\n",
      "r3 =\n",
      " [[2 9 9]\n",
      " [8 5 6]\n",
      " [6 3 2]\n",
      " [4 5 2]] \n",
      "\n"
     ]
    }
   ],
   "source": [
    "import numpy as np\n",
    "from numpy import random as nr\n",
    "np.set_printoptions(precision = 2)\n",
    "\n",
    "## rand()  \n",
    "r1 = nr.rand(4,3)\n",
    "r2 = nr.randn(4,3) \n",
    "r3 = nr.randint(0, 10, (4, 3))   #  随机数范围包括起始值但不包括终值.\n",
    "print('r1 =\\n', r1, '\\n\\nr2 =\\n', r2, '\\n\\nr3 =\\n', r3, '\\n')"
   ]
  },
  {
   "cell_type": "code",
   "execution_count": 4,
   "metadata": {},
   "outputs": [
    {
     "name": "stdout",
     "output_type": "stream",
     "text": [
      "r4 =\n",
      " [[ 79.59  93.92  97.55]\n",
      " [101.9  104.09 105.57]\n",
      " [116.61  80.64  95.8 ]\n",
      " [ 98.48 108.68  94.22]] \n",
      "\n",
      "r5 =\n",
      " [[11.57 19.85 19.21]\n",
      " [18.46 12.59 10.41]\n",
      " [13.07 14.24 17.77]\n",
      " [13.49 10.53 13.64]] \n",
      "\n",
      "r6 =\n",
      " [[3 1 0]\n",
      " [4 0 2]\n",
      " [5 2 5]\n",
      " [4 2 3]] \n",
      "\n"
     ]
    }
   ],
   "source": [
    "## 常见分布  \n",
    "r4 = nr.normal(100, 10, (4,3))\n",
    "r5 = nr.uniform(10, 20, (4, 3))\n",
    "r6 = nr.poisson(2.0, (4,3))\n",
    "print('r4 =\\n', r4, '\\n\\nr5 =\\n', r5, '\\n\\nr6 =\\n', r6, '\\n')"
   ]
  },
  {
   "cell_type": "code",
   "execution_count": 5,
   "metadata": {},
   "outputs": [
    {
     "name": "stdout",
     "output_type": "stream",
     "text": [
      "c1 =\n",
      " [[11. 11. 17.]\n",
      " [19. 23. 20.]\n",
      " [21. 17. 16.]\n",
      " [13. 23. 16.]] \n",
      "\n",
      "c2 =\n",
      " [[17. 19. 14.]\n",
      " [10. 21. 16.]\n",
      " [20. 13. 15.]\n",
      " [24. 12. 23.]] \n",
      "\n",
      "c3 =\n",
      " [[16. 18. 23.]\n",
      " [22. 21. 19.]\n",
      " [13. 21. 19.]\n",
      " [20. 12. 24.]] \n",
      "\n"
     ]
    }
   ],
   "source": [
    "## choice()\n",
    "a = np.arange(10, 25, dtype=np.float)\n",
    "c1 = nr.choice(a, size=(4,3))\n",
    "c2 = nr.choice(a, size=(4,3), replace=False)\n",
    "c3 = nr.choice(a, size=(4,3), p = a / np.sum(a))\n",
    "print('c1 =\\n', c1, '\\n\\nc2 =\\n', c2, '\\n\\nc3 =\\n', c3, '\\n')"
   ]
  },
  {
   "cell_type": "code",
   "execution_count": 6,
   "metadata": {},
   "outputs": [
    {
     "name": "stdout",
     "output_type": "stream",
     "text": [
      "r1 =  [41 43 61] \n",
      "\n",
      "r2 =  [81 57 24] \n",
      "\n",
      "r3 =  [51 92 14] \n",
      "\n",
      "r4 =  [51 92 14] \n",
      "\n"
     ]
    }
   ],
   "source": [
    "# seed\n",
    "r1 = nr.randint(0, 100, 3)   #  随机数范围包括起始值但不包括终值.\n",
    "r2 = nr.randint(0, 100, 3)  \n",
    "nr.seed(42)\n",
    "r3 = nr.randint(0, 100, 3)    \n",
    "nr.seed(42)\n",
    "r4 = nr.randint(0, 100, 3)    \n",
    "print('r1 = ', r1, '\\n\\nr2 = ', r2, '\\n\\nr3 = ', r3, '\\n\\nr4 = ', r4, '\\n')"
   ]
  },
  {
   "cell_type": "markdown",
   "metadata": {},
   "source": [
    "##  2. 求和, 平均值,方差    \n",
    "\n",
    "|函数名|功能|\n",
    "| :--- | :---: |\n",
    "|sum|求和||\n",
    "|mean|求期望值|\n",
    "|average|加权平均数|\n",
    "|std|标准差|\n",
    "|var|方差|\n",
    "|product|连乘积|\n",
    "\n",
    "**Note**:   \n",
    "- 函数参数都是一个序列.   \n"
   ]
  },
  {
   "cell_type": "markdown",
   "metadata": {},
   "source": [
    "### 2.1 sum()　求和　\n",
    "\n",
    "(1) axis 参数    \n",
    "如果指定了 axis 参数, 则求和运算沿着指定的轴进行.    \n",
    "例如 np.random.randint(0, 14, (4,3)) 的第 0 轴的长度为 4, 第 1 轴的长度为 3 .那么对 axis=0 求和就是计算每 4 个元素的和, 对 axis=1 求和就是计算每 3 个元素的和.\n",
    "\n",
    "特别的, 可以使用元组形式指定多条轴.    \n",
    "例如, 对 np.ones((2,3,4)) 的第 0 轴和第 2 轴求和, 可以这样 np.sum(np.ones((2,3,4)), axis=(0,2)). 得到一个形状为 3 的数组,由于原数组的所有元素都为 1, 因此求和的结果是 `[8,8,8]`.     \n",
    "\n",
    "(2) keepdims 参数   \n",
    "有时我们希望能够保持原数组的维度(比如两维数组求和后还是两维, 而不是变为一维), 这时可以设置 keepdims 参数为 True.    \n",
    "\n",
    "(3) dtype 元素类型参数    \n",
    "默认使用和数组的元素类型相同的类型进行累加运算, 如果元素类型为整数, 则使用系统的系统的默认整数类型作为累加变量, 但是这样可能出现溢出问题.  "
   ]
  },
  {
   "cell_type": "code",
   "execution_count": 7,
   "metadata": {},
   "outputs": [
    {
     "name": "stdout",
     "output_type": "stream",
     "text": [
      "a =  [[6 3 7]\n",
      " [4 6 9]\n",
      " [2 6 7]\n",
      " [4 3 7]] \n",
      "sum[0] =  [16 18 30] \n",
      "sum[1] =  [16 19 15 14] \n",
      "sum =  64\n",
      "\n",
      "\n",
      "\n",
      "[8. 8. 8.]\n",
      "\n",
      "\n",
      "\n",
      "a =  [[6 3 7]\n",
      " [4 6 9]\n",
      " [2 6 7]\n",
      " [4 3 7]] \n",
      "sum[0] =  [[16 18 30]] \n",
      "sum[1] =  [[16]\n",
      " [19]\n",
      " [15]\n",
      " [14]]\n"
     ]
    },
    {
     "data": {
      "text/plain": [
       "array([100., 100., 100.])"
      ]
     },
     "execution_count": 7,
     "metadata": {},
     "output_type": "execute_result"
    }
   ],
   "source": [
    "# axis\n",
    "np.random.seed(42)\n",
    "a = np.random.randint(0, 10, (4,3))\n",
    "print('a = ', a, '\\nsum[0] = ', np.sum(a, axis=0), '\\nsum[1] = ', np.sum(a, axis=1), '\\nsum = ', np.sum(a))\n",
    "print('\\n\\n')\n",
    "\n",
    "print(np.sum(np.ones((2,3,4)), axis=(0,2)))\n",
    "\n",
    "# keepdims\n",
    "print('\\n\\n')\n",
    "print('a = ', a, '\\nsum[0] = ', np.sum(a, axis=0, keepdims=True), '\\nsum[1] = ', np.sum(a, axis=1, keepdims=True))\n",
    "\n",
    "# dtype\n",
    "pa = a / np.sum(a, axis=0, dtype=np.float, keepdims=True) * 100\n",
    "pa.sum(axis = 0)\n"
   ]
  },
  {
   "cell_type": "markdown",
   "metadata": {},
   "source": [
    "### 2.2 mean()　求均值    \n",
    "\n",
    "和 sum() 不同的是, 对于整数数组它使用双精度浮点数进行计算, 为对于其他类型的数组, 则使用和数组元素类型相同的累加变量进行计算.   \n",
    "\n",
    "(1) 参数    \n",
    "axis, dtype.    \n"
   ]
  },
  {
   "cell_type": "code",
   "execution_count": 8,
   "metadata": {},
   "outputs": [
    {
     "data": {
      "text/plain": [
       "array([5.33, 6.33, 5.  , 4.67])"
      ]
     },
     "execution_count": 8,
     "metadata": {},
     "output_type": "execute_result"
    }
   ],
   "source": [
    "## 对于整数数组,使用双精度浮点数进行计算\n",
    "np.mean(a, axis = 1)   "
   ]
  },
  {
   "cell_type": "markdown",
   "metadata": {},
   "source": [
    "### 2.3 average()　求加权平均     \n",
    "\n",
    "average() 也可以对数组进行平均计算. 它没有 out 和 dtype 参数, 但有一个指定每个元素权值的 weights 参数可以用于计算加权平均值.   "
   ]
  },
  {
   "cell_type": "code",
   "execution_count": 11,
   "metadata": {},
   "outputs": [
    {
     "name": "stdout",
     "output_type": "stream",
     "text": [
      "78.61538461538461\n",
      "[1660 1080 2370]\n"
     ]
    }
   ],
   "source": [
    "# score 保存每个班级的平均分, number 保存每个班级的人数\n",
    "score = np.array([83, 72, 79])\n",
    "number = np.array([20, 15, 30])\n",
    "print(np.average(score, weights=number))  # 等价于 np.sum(score*number)/np.sum(number, dtype=np.float)"
   ]
  },
  {
   "cell_type": "markdown",
   "metadata": {},
   "source": [
    "### 2.4 std() 和 var() 求标准差和方差     \n",
    "\n",
    "std() 和 var() 分别计算数组的标准差和方差. 有 axis, out, keepdims 和 dtype 等参数.   \n",
    "方差有两种定义: 偏样本方差和无偏样本方差. ddof 参数默认为 0, 当 ddof 参数为 0 时, 计算偏样本方差; 当 ddof 参数为 1 时, 计算无偏样本方差;    "
   ]
  },
  {
   "cell_type": "code",
   "execution_count": 13,
   "metadata": {},
   "outputs": [
    {
     "name": "stdout",
     "output_type": "stream",
     "text": [
      "v1 =  [2.01 3.36 0.46 ... 6.43 5.92 6.44] \n",
      "v2 =  [2.23 3.74 0.51 ... 7.14 6.58 7.16] \n",
      "m1 =  3.599548597119702 \n",
      "m2 =  3.9994984412441137\n"
     ]
    }
   ],
   "source": [
    "a = np.random.normal(0, 2.0, (100000, 10))\n",
    "v1 = np.var(a, axis=1, ddof=0)   # 可以省略 ddof \n",
    "v2 = np.var(a, axis=1, ddof=1)\n",
    "m1 = np.mean(v1)\n",
    "m2 = np.mean(v2)\n",
    "print('v1 = ', v1, '\\nv2 = ', v2, '\\nm1 = ', m1, '\\nm2 = ', m2)\n"
   ]
  },
  {
   "cell_type": "markdown",
   "metadata": {},
   "source": [
    "可以看到无偏样本的方差的期望值接近于总体样本的方差 4.0, 而偏样本方差比 4.0 小一些.   \n",
    "\n",
    "**例子: 最大似然估计**  \n",
    "偏样本方差是正态分布随机变量的最大似然估计. 如果有一个样本包含 n 个随机数, 并且知道他们符合正态分布, 通过该样本可以估算出正态分布的概率密度函数的参数. 所估算的那组正态分布参数最符合给定的样本, 就称为最大似然估计.   \n",
    "所谓最似然估计就是找到一组参数, 使得所有样本的概率的乘积最大.\n",
    "\n",
    "- 产生 10 个正态分布的随机数   \n",
    "- 计算其最大似然估计的参数   \n",
    "- 以最大似然估计的方差为中心, 产生一组方差值.     \n",
    "- 用正态分布的概率密度函数计算每个样本和每个方差对应的概率密度.   \n"
   ]
  },
  {
   "cell_type": "code",
   "execution_count": 25,
   "metadata": {},
   "outputs": [
    {
     "data": {
      "image/png": "[encoded data removed]",
      "text/plain": [
       "<matplotlib.figure.Figure at 0x7f6412467be0>"
      ]
     },
     "metadata": {},
     "output_type": "display_data"
    }
   ],
   "source": [
    "def normal_pdf(mean, var, x):\n",
    "    return 1/np.sqrt(2* np.pi * var) * np.exp(-(x-mean)**2/(2*var))\n",
    "\n",
    "np.random.seed(42)\n",
    "data = np.random.normal(0, 2.0, size = 10) \n",
    "mean, var = np.mean(data), np.var(data, ddof=0)\n",
    "var_range = np.linspace(max(var - 4,0.1), var + 4, 100)\n",
    "p = normal_pdf(mean, var_range[:, None], data)\n",
    "p = np.product(p, axis=1)\n",
    "\n",
    "import pylab as pl\n",
    "pl.plot(var_range, p)\n",
    "pl.axvline(var, 0, 1, c = 'r')\n",
    "pl.show()"
   ]
  },
  {
   "cell_type": "markdown",
   "metadata": {},
   "source": [
    "\n",
    "## 3. 大小与排序       \n",
    "\n",
    "|函数名|功能|函数参数|\n",
    "| :--- | :---: | :---: |\n",
    "|min|最小值|\n",
    "|max|最大值|\n",
    "|minimum|二元最小值|\n",
    "|maximum|二元最大值|\n",
    "|ptp|最大值与最小值|\n",
    "|argmin|最小值的下标|\n",
    "|argmax|最大值的下标|\n",
    "|ravel|多维数组flatten为一维数组|\n",
    "|unravel|一维下标转换为多维下标|\n",
    "|sort|数组排序|\n",
    "|argsort|计算数组排序后的下标|\n",
    "|lexsort|多列排序|\n",
    "|partition|快速计算前 k 位|\n",
    "|argpartition|快速计算前 k 位|的下标\n",
    "|median|中位数|\n",
    "|percentile|百分位数|\n",
    "|searchsorted|二分查找|\n",
    "\n",
    "**Note**:   \n",
    "- min() 和 max() 计算最大值和最小值, 它们都有 axis, out, keepdims 等参数,和 sum() 不同的是, axis 不支持序列.   \n",
    "- ptp() 计算最大值和最小值之间的差, 有 axis 和 out 参数.   \n",
    "- maximum() 和 minimum() 计算两个数组对应下标的元素, 返回数组的形状为两参数数组广播之后的形状.    \n",
    "- argmin() 和 argmax() 可以求最大值和最小值的下标, 有多个最大值时返回第一个最大值下标.如果不指定 axis 参数, 则返回 flatten 之后的数组下标.  \n"
   ]
  },
  {
   "cell_type": "code",
   "execution_count": 31,
   "metadata": {},
   "outputs": [
    {
     "name": "stdout",
     "output_type": "stream",
     "text": [
      "(1, 4) \n",
      "\n",
      " (3, 1)\n"
     ]
    },
    {
     "data": {
      "text/plain": [
       "array([[2, 3, 5, 7],\n",
       "       [4, 4, 5, 7],\n",
       "       [6, 6, 6, 7]])"
      ]
     },
     "execution_count": 31,
     "metadata": {},
     "output_type": "execute_result"
    }
   ],
   "source": [
    "# maximum() \n",
    "a = np.array([1, 3, 5, 7])\n",
    "b = np.array([2, 4, 6])\n",
    "print(a[None, :].shape, '\\n\\n', b[:, None].shape)\n",
    "np.maximum(a[None, :], b[:, None])   #  None 让维度更明确 "
   ]
  },
  {
   "cell_type": "markdown",
   "metadata": {},
   "source": [
    "上面的结果最终等价于:    \n",
    "```\n",
    "                                             [[1, 3, 5, 7],   [[2, 2, 2, 2]            [[2, 3, 5, 7],\n",
    "np.maximum(a[None, :], b[:, None])广播之后变为  [1, 3, 5, 7], 和 [4, 4, 4, 4]  比较, 结果为 [4, 4, 5, 7],\n",
    "                                              [1, 3, 5, 7]]    [6, 6, 6, 6]]            [6, 6, 6, 7]]\n",
    "```"
   ]
  },
  {
   "cell_type": "code",
   "execution_count": 40,
   "metadata": {},
   "outputs": [
    {
     "name": "stdout",
     "output_type": "stream",
     "text": [
      "[2 0 1 2]\n",
      "5\n",
      "9 9\n"
     ]
    }
   ],
   "source": [
    "## argmin() 和 argmax()\n",
    "np.random.seed(42)\n",
    "a = np.random.randint(0, 10, size=(4, 5))\n",
    "max_pos = np.argmax(a, axis=1)  # 如果指定 axis 参数, 则不进行 flatten.  \n",
    "print(max_pos)\n",
    "max_pos = np.argmax(a)  # 如果不指定 axis 参数, 则返回 flatten 之后的数组下标.  \n",
    "print(max_pos)\n",
    "\n",
    "print(a.ravel()[max_pos], np.max(a))   # ravel()jiang多维数组flatten为一维数组\n"
   ]
  },
  {
   "cell_type": "code",
   "execution_count": null,
   "metadata": {},
   "outputs": [],
   "source": []
  },
  {
   "cell_type": "code",
   "execution_count": null,
   "metadata": {},
   "outputs": [],
   "source": []
  }
 ],
 "metadata": {
  "kernelspec": {
   "display_name": "Python 3",
   "language": "python",
   "name": "python3"
  },
  "language_info": {
   "codemirror_mode": {
    "name": "ipython",
    "version": 3
   },
   "file_extension": ".py",
   "mimetype": "text/x-python",
   "name": "python",
   "nbconvert_exporter": "python",
   "pygments_lexer": "ipython3",
   "version": "3.4.3"
  }
 },
 "nbformat": 4,
 "nbformat_minor": 2
}
