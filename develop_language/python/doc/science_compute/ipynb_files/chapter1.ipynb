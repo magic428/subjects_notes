{
 "cells": [
  {
   "cell_type": "markdown",
   "metadata": {},
   "source": [
    "1. % magic 指令   \n",
    "1.1 测试代码运行时间 time\n",
    "% 开头为行命令, %% 开头为 cell 命令.\n",
    "%timeit 用于测试单行语句的执行时间,会重复计算多次.\n",
    "%%timeit 用于测试整个单元中代码的执行时间.  \n",
    "%time 则只输出本次执行消耗的时间.\n"
   ]
  },
  {
   "cell_type": "code",
   "execution_count": 7,
   "metadata": {},
   "outputs": [
    {
     "name": "stdout",
     "output_type": "stream",
     "text": [
      "CPU times: user 0 ns, sys: 0 ns, total: 0 ns\n",
      "Wall time: 30 µs\n"
     ]
    }
   ],
   "source": [
    "%%time\n",
    "a = []\n",
    "for i in range(10):\n",
    "    a.append(i)"
   ]
  },
  {
   "cell_type": "markdown",
   "metadata": {},
   "source": [
    "1.2 捕获程序输出信息   \n",
    "%%capture将单元格的输出保存为一个对象.    "
   ]
  },
  {
   "cell_type": "code",
   "execution_count": 8,
   "metadata": {},
   "outputs": [],
   "source": [
    "%%capture time_results\n",
    "import random\n",
    "for n in [1000, 5000, 10000, 50000, 100000,500000]:\n",
    "    print \"n = {0}\".format(n)\n",
    "    alist = range(n)\n",
    "    %time random.shuffle(alist)"
   ]
  },
  {
   "cell_type": "code",
   "execution_count": 9,
   "metadata": {},
   "outputs": [
    {
     "name": "stdout",
     "output_type": "stream",
     "text": [
      "n = 1000\n",
      "CPU times: user 4 ms, sys: 0 ns, total: 4 ms\n",
      "Wall time: 1.48 ms\n",
      "n = 5000\n",
      "CPU times: user 12 ms, sys: 0 ns, total: 12 ms\n",
      "Wall time: 7.02 ms\n",
      "n = 10000\n",
      "CPU times: user 16 ms, sys: 0 ns, total: 16 ms\n",
      "Wall time: 13 ms\n",
      "n = 50000\n",
      "CPU times: user 52 ms, sys: 4 ms, total: 56 ms\n",
      "Wall time: 51.1 ms\n",
      "n = 100000\n",
      "CPU times: user 44 ms, sys: 0 ns, total: 44 ms\n",
      "Wall time: 46.2 ms\n",
      "n = 500000\n",
      "CPU times: user 216 ms, sys: 0 ns, total: 216 ms\n",
      "Wall time: 217 ms\n",
      "\n"
     ]
    }
   ],
   "source": [
    "print time_results.stdout"
   ]
  },
  {
   "cell_type": "markdown",
   "metadata": {},
   "source": [
    "1.3 性能分析\n",
    "%%prun 命令调用 profile 模块对单元中的代码进行性能分析.\n",
    "1.4 代码调试\n",
    "%debug命令用于调试代码.一种是在执行代码之前设置断点进行调试;另一种是在代码抛出异常之后,执行%debug命令查看调用堆栈.   \n"
   ]
  },
  {
   "cell_type": "code",
   "execution_count": 11,
   "metadata": {},
   "outputs": [
    {
     "name": "stdout",
     "output_type": "stream",
     "text": [
      "/home/klm/.ipython\n",
      "<traitlets.config.loader.LazyConfigValue object at 0x7f14080bacd0>\n"
     ]
    }
   ],
   "source": [
    "import os\n",
    "ipython = get_ipython()\n",
    "print ipython.ipython_dir\n",
    "print ipython.config.ProfileDir.location"
   ]
  },
  {
   "cell_type": "code",
   "execution_count": null,
   "metadata": {},
   "outputs": [],
   "source": []
  }
 ],
 "metadata": {
  "kernelspec": {
   "display_name": "Python 2",
   "language": "python",
   "name": "python2"
  },
  "language_info": {
   "codemirror_mode": {
    "name": "ipython",
    "version": 3
   },
   "file_extension": ".py",
   "mimetype": "text/x-python",
   "name": "python",
   "nbconvert_exporter": "python",
   "pygments_lexer": "ipython3",
   "version": "3.4.3"
  }
 },
 "nbformat": 4,
 "nbformat_minor": 2
}
