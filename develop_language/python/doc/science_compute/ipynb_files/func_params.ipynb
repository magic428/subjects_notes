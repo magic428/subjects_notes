{
 "cells": [
  {
   "cell_type": "markdown",
   "metadata": {},
   "source": [
    "1. 默认参数\n",
    "1.1 默认参数可以简化函数的调用。设置默认参数时，有几点要注意：   \n",
    "一是必选参数在前，默认参数在后，否则Python的解释器会报错（思考一下为什么默认参数不能放在必选参数前面）；   \n",
    "二是如何设置默认参数。  \n",
    "当函数有多个参数时，把变化大的参数放前面，变化小的参数放后面。变化小的参数就可以作为默认参数。  \n",
    "使用默认参数有什么好处？最大的好处是能降低调用函数的难度。  \n",
    "1.2 默认参数很有用，但使用不当，也会掉坑里。默认参数有个最大的坑，演示如下：   \n",
    "先定义一个函数，传入一个 list，添加一个 END 再返回：   \n",
    "```python\n",
    "def add_end(L=[]):\n",
    "    L.append('END')\n",
    "    return L\n",
    "```\n",
    "当你正常调用时，结果似乎不错：\n",
    "```\n",
    ">>> add_end([1, 2, 3])\n",
    "[1, 2, 3, 'END']\n",
    ">>> add_end(['x', 'y', 'z'])\n",
    "['x', 'y', 'z', 'END']\n",
    "```\n",
    "当你使用默认参数调用时，一开始结果也是对的：   \n",
    "```\n",
    ">>> add_end()\n",
    "['END']\n",
    "```\n",
    "但是，再次调用add_end()时，结果就不对了：\n",
    "```\n",
    ">>> add_end()\n",
    "['END', 'END']\n",
    ">>> add_end()\n",
    "['END', 'END', 'END']\n",
    "```\n",
    "很多初学者很疑惑，默认参数是[]，但是函数似乎每次都“记住了”上次添加了'END'后的list。   \n",
    "原因解释如下：   \n",
    "Python函数在定义的时候，默认参数L的值就被计算出来了，即[]，因为默认参数L也是一个变量，它指向对象[]，每次调用该函数，如果改变了L的内容，则下次调用时，默认参数的内容就变了，不再是函数定义时的[]了。   \n",
    "**Note:**   \n",
    "定义默认参数要牢记一点：默认参数必须指向不变对象！   \n",
    "要修改上面的例子，我们可以用None这个不变对象来实现：   \n",
    "```python\n",
    "def add_end(L=None):\n",
    "    if L is None:\n",
    "        L = []\n",
    "    L.append('END')\n",
    "    return L\n",
    "```\n",
    "现在，无论调用多少次，都不会有问题：    \n",
    "```\n",
    ">>> add_end()\n",
    "['END']\n",
    ">>> add_end()\n",
    "['END']\n",
    "```\n",
    "为什么要设计str、None这样的不变对象呢？因为不变对象一旦创建，对象内部的数据就不能修改，这样就减少了由于修改数据导致的错误。此外，由于对象不变，多任务环境下同时读取对象不需要加锁，同时读一点问题都没有。我们在编写程序时，如果可以设计一个不变对象，那就尽量设计成不变对象.   "
   ]
  },
  {
   "cell_type": "code",
   "execution_count": 4,
   "metadata": {},
   "outputs": [
    {
     "name": "stdout",
     "output_type": "stream",
     "text": [
      "9\n",
      "27\n"
     ]
    }
   ],
   "source": [
    "def power(x, n=2):\n",
    "    s = 1\n",
    "    while n > 0:\n",
    "        n = n - 1\n",
    "        s = s * x\n",
    "    return s\n",
    "print power(3)\n",
    "print power(3, 3)"
   ]
  },
  {
   "cell_type": "markdown",
   "metadata": {},
   "source": [
    "2. 可变参数   \n",
    "2.1  Python允许你在list或tuple前面加一个*号，把list或tuple的元素变成可变参数传进去.这种写法相当有用，而且很常见。    \n",
    "`*args`是可变参数，args接收的是一个tuple；    "
   ]
  },
  {
   "cell_type": "code",
   "execution_count": 8,
   "metadata": {},
   "outputs": [
    {
     "name": "stdout",
     "output_type": "stream",
     "text": [
      "14\n"
     ]
    }
   ],
   "source": [
    "def calc(*nums):\n",
    "    sum = 0\n",
    "    for n in nums:\n",
    "        sum += n*n\n",
    "    return sum\n",
    "\n",
    "print calc(1,2,3)  # 也可以这样调用: print calc(*[1,2,3])"
   ]
  },
  {
   "cell_type": "markdown",
   "metadata": {},
   "source": [
    "3.关键字参数\n",
    "`**kw`是关键字参数，kw接收的是一个dict。    \n",
    "可变参数允许你传入0个或任意个参数，这些可变参数在函数调用时自动组装为一个tuple。   \n",
    "而关键字参数允许你传入0个或任意个含参数名的参数，这些关键字参数在函数内部自动组装为一个dict。请看示例：   \n",
    "```python\n",
    "def person(name, age, **kw):\n",
    "    print('name:', name, 'age:', age, 'other:', kw)\n",
    "```\n",
    "函数person除了必选参数name和age外，还接受关键字参数kw。在调用该函数时，可以只传入必选参数：   \n",
    "```\n",
    ">>> person('Michael', 30)\n",
    "name: Michael age: 30 other: {}\n",
    "```\n",
    "也可以传入任意个数的关键字参数：    \n",
    "```\n",
    ">>> person('Bob', 35, city='Beijing')\n",
    "name: Bob age: 35 other: {'city': 'Beijing'}\n",
    ">>> person('Adam', 45, gender='M', job='Engineer')\n",
    "name: Adam age: 45 other: {'gender': 'M', 'job': 'Engineer'}\n",
    "```\n",
    "关键字参数有什么用？它可以扩展函数的功能。比如，在person函数里，我们保证能接收到name和age这两个参数，但是，如果调用者愿意提供更多的参数，我们也能收到。试想你正在做一个用户注册的功能，除了用户名和年龄是必填项外，其他都是可选项，利用关键字参数来定义这个函数就能满足注册的需求。    \n",
    "和可变参数类似，也可以先组装出一个dict，然后，把该dict转换为关键字参数传进去：   \n",
    "```\n",
    ">>> extra = {'city': 'Beijing', 'job': 'Engineer'}\n",
    ">>> person('Jack', 24, city=extra['city'], job=extra['job'])\n",
    "name: Jack age: 24 other: {'city': 'Beijing', 'job': 'Engineer'}\n",
    "```\n",
    "当然，上面复杂的调用可以用简化的写法：   \n",
    "```\n",
    ">>> extra = {'city': 'Beijing', 'job': 'Engineer'}\n",
    ">>> person('Jack', 24, **extra)\n",
    "name: Jack age: 24 other: {'city': 'Beijing', 'job': 'Engineer'}\n",
    "```\n",
    "**extra表示把extra这个dict的所有key-value用关键字参数传入到函数的**kw参数，kw将获得一个dict，注意kw获得的dict是extra的一份拷贝，对kw的改动不会影响到函数外的extra。"
   ]
  },
  {
   "cell_type": "code",
   "execution_count": 17,
   "metadata": {},
   "outputs": [
    {
     "name": "stdout",
     "output_type": "stream",
     "text": [
      "Help on built-in function print in module __builtin__:\n",
      "\n",
      "print(...)\n",
      "    print(value, ..., sep=' ', end='\\n', file=sys.stdout)\n",
      "    \n",
      "    Prints the values to a stream, or to sys.stdout by default.\n",
      "    Optional keyword arguments:\n",
      "    file: a file-like object (stream); defaults to the current sys.stdout.\n",
      "    sep:  string inserted between values, default a space.\n",
      "    end:  string appended after the last value, default a newline.\n",
      "\n",
      "None\n"
     ]
    }
   ],
   "source": [
    "from __future__ import print_function\n",
    "print(help(print))"
   ]
  },
  {
   "cell_type": "code",
   "execution_count": null,
   "metadata": {},
   "outputs": [],
   "source": []
  },
  {
   "cell_type": "code",
   "execution_count": null,
   "metadata": {},
   "outputs": [],
   "source": []
  }
 ],
 "metadata": {
  "kernelspec": {
   "display_name": "Python 2",
   "language": "python",
   "name": "python2"
  },
  "language_info": {
   "codemirror_mode": {
    "name": "ipython",
    "version": 2
   },
   "file_extension": ".py",
   "mimetype": "text/x-python",
   "name": "python",
   "nbconvert_exporter": "python",
   "pygments_lexer": "ipython2",
   "version": "2.7.6"
  }
 },
 "nbformat": 4,
 "nbformat_minor": 2
}
